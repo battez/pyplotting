{
 "cells": [
  {
   "cell_type": "code",
   "execution_count": 2,
   "metadata": {},
   "outputs": [
    {
     "name": "stdout",
     "output_type": "stream",
     "text": [
      "/\n"
     ]
    }
   ],
   "source": [
    "'''\n",
    "Quick full size img scrape from a csv of extracted urls, \n",
    "having used import.io or a Beautiful Soup to generate this etc. \n",
    "'''\n",
    "\n",
    "import urllib\n",
    "import os\n",
    "import pandas as pd\n",
    "\n",
    "outputDir = '..' + os.sep + 'scrapes'\n",
    "\n",
    "goalDir = os.path.join(os.getcwd(), outputDir)\n",
    "goalDir = os.path.normpath(goalDir)\n",
    "\n",
    "PREFIX = 'scraped'\n",
    "\n"
   ]
  },
  {
   "cell_type": "code",
   "execution_count": 3,
   "metadata": {},
   "outputs": [],
   "source": [
    "\n",
    "csvFrame = pd.read_csv(goalDir + os.sep + 'extracted.csv')\n",
    "\n",
    "# 4th column needed\n",
    "for url in csvFrame.iloc[:, 3]:\n",
    "    endUrl = os.sep + PREFIX + url[-8:]\n",
    "    # print(os.path.normpath(goalDir) + endUrl)\n",
    "    urllib.request.urlretrieve(url, goalDir + endUrl)\n",
    "\n",
    "# TODO: simple error handling\n",
    "print('Done.')"
   ]
  }
 ],
 "metadata": {
  "kernelspec": {
   "display_name": "Python 3",
   "language": "python",
   "name": "python3"
  },
  "language_info": {
   "codemirror_mode": {
    "name": "ipython",
    "version": 3
   },
   "file_extension": ".py",
   "mimetype": "text/x-python",
   "name": "python",
   "nbconvert_exporter": "python",
   "pygments_lexer": "ipython3",
   "version": "3.7.3"
  }
 },
 "nbformat": 4,
 "nbformat_minor": 2
}
