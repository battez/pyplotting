{
 "cells": [
  {
   "cell_type": "markdown",
   "metadata": {},
   "source": [
    "# Assignment 2\n",
    "\n",
    "Before working on this assignment please read these instructions fully. In the submission area, you will notice that you can click the link to **Preview the Grading** for each step of the assignment. This is the criteria that will be used for peer grading. Please familiarize yourself with the criteria before beginning the assignment.\n",
    "\n",
    "An NOAA dataset has been stored in the file `data/C2A2_data/BinnedCsvs_d100/2f0bb04162655f0cba429b865292f31482e817e0b3ee9da0f40185d7.csv`. The data for this assignment comes from a subset of The National Centers for Environmental Information (NCEI) [Daily Global Historical Climatology Network](https://www1.ncdc.noaa.gov/pub/data/ghcn/daily/readme.txt) (GHCN-Daily). The GHCN-Daily is comprised of daily climate records from thousands of land surface stations across the globe.\n",
    "\n",
    "Each row in the assignment datafile corresponds to a single observation.\n",
    "\n",
    "The following variables are provided to you:\n",
    "\n",
    "* **id** : station identification code\n",
    "* **date** : date in YYYY-MM-DD format (e.g. 2012-01-24 = January 24, 2012)\n",
    "* **element** : indicator of element type\n",
    "    * TMAX : Maximum temperature (tenths of degrees C)\n",
    "    * TMIN : Minimum temperature (tenths of degrees C)\n",
    "* **value** : data value for element (tenths of degrees C)\n",
    "\n",
    "For this assignment, you must:\n",
    "\n",
    "1. Read the documentation and familiarize yourself with the dataset, then write some python code which returns a line graph of the record high and record low temperatures by day of the year over the period 2005-2014. The area between the record high and record low temperatures for each day should be shaded.\n",
    "2. Overlay a scatter of the 2015 data for any points (highs and lows) for which the ten year record (2005-2014) record high or record low was broken in 2015.\n",
    "3. Watch out for leap days (i.e. February 29th), it is reasonable to remove these points from the dataset for the purpose of this visualization.\n",
    "4. Make the visual nice! Leverage principles from the first module in this course when developing your solution. Consider issues such as legends, labels, and chart junk.\n",
    "\n",
    "The data you have been given is near **London, England, United Kingdom**, and the stations the data comes from are shown on the map below."
   ]
  },
  {
   "cell_type": "code",
   "execution_count": 2,
   "metadata": {
    "collapsed": false
   },
   "outputs": [
    {
     "data": {
      "text/html": [
       "<iframe src=\"data:text/html;base64,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\" width=\"100%\" height=\"480\"></iframe>"
      ],
      "text/plain": [
       "<IPython.core.display.HTML object>"
      ]
     },
     "execution_count": 2,
     "metadata": {},
     "output_type": "execute_result"
    }
   ],
   "source": [
    "import matplotlib.pyplot as plt\n",
    "import mplleaflet\n",
    "import pandas as pd\n",
    "\n",
    "def leaflet_plot_stations(binsize, hashid):\n",
    "\n",
    "    df = pd.read_csv('data/C2A2_data/BinSize_d{}.csv'.format(binsize))\n",
    "\n",
    "    station_locations_by_hash = df[df['hash'] == hashid]\n",
    "\n",
    "    lons = station_locations_by_hash['LONGITUDE'].tolist()\n",
    "    lats = station_locations_by_hash['LATITUDE'].tolist()\n",
    "\n",
    "    plt.figure(figsize=(8,8))\n",
    "\n",
    "    plt.scatter(lons, lats, c='r', alpha=0.7, s=200)\n",
    "\n",
    "    return mplleaflet.display()\n",
    "\n",
    "leaflet_plot_stations(100,'2f0bb04162655f0cba429b865292f31482e817e0b3ee9da0f40185d7')"
   ]
  },
  {
   "cell_type": "code",
   "execution_count": 38,
   "metadata": {
    "collapsed": false
   },
   "outputs": [
    {
     "data": {
      "text/html": [
       "<div>\n",
       "<table border=\"1\" class=\"dataframe\">\n",
       "  <thead>\n",
       "    <tr style=\"text-align: right;\">\n",
       "      <th></th>\n",
       "      <th>ID</th>\n",
       "      <th>Date</th>\n",
       "      <th>Element</th>\n",
       "      <th>Data_Value</th>\n",
       "      <th>DayMonth</th>\n",
       "    </tr>\n",
       "  </thead>\n",
       "  <tbody>\n",
       "    <tr>\n",
       "      <th>0</th>\n",
       "      <td>UKM00003257</td>\n",
       "      <td>2007-06-09</td>\n",
       "      <td>TMIN</td>\n",
       "      <td>0</td>\n",
       "      <td>Jun 09</td>\n",
       "    </tr>\n",
       "    <tr>\n",
       "      <th>1</th>\n",
       "      <td>NLE00113706</td>\n",
       "      <td>2010-06-15</td>\n",
       "      <td>TMIN</td>\n",
       "      <td>114</td>\n",
       "      <td>Jun 15</td>\n",
       "    </tr>\n",
       "    <tr>\n",
       "      <th>2</th>\n",
       "      <td>UKM00003740</td>\n",
       "      <td>2015-05-21</td>\n",
       "      <td>TMIN</td>\n",
       "      <td>57</td>\n",
       "      <td>May 21</td>\n",
       "    </tr>\n",
       "    <tr>\n",
       "      <th>3</th>\n",
       "      <td>NLE00113724</td>\n",
       "      <td>2005-07-22</td>\n",
       "      <td>TMAX</td>\n",
       "      <td>148</td>\n",
       "      <td>Jul 22</td>\n",
       "    </tr>\n",
       "    <tr>\n",
       "      <th>4</th>\n",
       "      <td>NLE00113736</td>\n",
       "      <td>2008-08-29</td>\n",
       "      <td>TMAX</td>\n",
       "      <td>191</td>\n",
       "      <td>Aug 29</td>\n",
       "    </tr>\n",
       "  </tbody>\n",
       "</table>\n",
       "</div>"
      ],
      "text/plain": [
       "            ID       Date Element  Data_Value DayMonth\n",
       "0  UKM00003257 2007-06-09    TMIN           0   Jun 09\n",
       "1  NLE00113706 2010-06-15    TMIN         114   Jun 15\n",
       "2  UKM00003740 2015-05-21    TMIN          57   May 21\n",
       "3  NLE00113724 2005-07-22    TMAX         148   Jul 22\n",
       "4  NLE00113736 2008-08-29    TMAX         191   Aug 29"
      ]
     },
     "execution_count": 38,
     "metadata": {},
     "output_type": "execute_result"
    }
   ],
   "source": [
    "%matplotlib inline\n",
    "df = pd.read_csv('data/C2A2_data/BinnedCsvs_d100/2f0bb04162655f0cba429b865292f31482e817e0b3ee9da0f40185d7.csv', parse_dates=['Date'])\n",
    "df['Element'] = df['Element'].astype('category')\n",
    "df['DayMonth'] = df['Date'].dt.strftime('%Y-%b %d')\n",
    "\n",
    "# use this extra column to filter on\n",
    "df['DayMonth'] = df['DayMonth'].str.slice(5) \n",
    "df.head()"
   ]
  },
  {
   "cell_type": "code",
   "execution_count": 41,
   "metadata": {
    "collapsed": false
   },
   "outputs": [
    {
     "data": {
      "text/plain": [
       "DayMonth\n",
       "Apr 01    -78\n",
       "Apr 02    -31\n",
       "Apr 03    -50\n",
       "Apr 04    -74\n",
       "Apr 05    -94\n",
       "Apr 06   -149\n",
       "Apr 07    -63\n",
       "Apr 08   -124\n",
       "Apr 09    -97\n",
       "Apr 10    -62\n",
       "Apr 11    -50\n",
       "Apr 12    -84\n",
       "Apr 13    -91\n",
       "Apr 14    -47\n",
       "Apr 15    -38\n",
       "Apr 16    -80\n",
       "Apr 17    -55\n",
       "Apr 18    -78\n",
       "Apr 19    -50\n",
       "Apr 20    -47\n",
       "Apr 21    -66\n",
       "Apr 22    -25\n",
       "Apr 23    -41\n",
       "Apr 24    -39\n",
       "Apr 25    -38\n",
       "Apr 26    -50\n",
       "Apr 27    -48\n",
       "Apr 28     -9\n",
       "Apr 29      0\n",
       "Apr 30    -57\n",
       "         ... \n",
       "Sep 01     47\n",
       "Sep 02      0\n",
       "Sep 03     -1\n",
       "Sep 04    -24\n",
       "Sep 05      0\n",
       "Sep 06      0\n",
       "Sep 07      0\n",
       "Sep 08      0\n",
       "Sep 09     -4\n",
       "Sep 10      0\n",
       "Sep 11      0\n",
       "Sep 12    -10\n",
       "Sep 13    -18\n",
       "Sep 14    -17\n",
       "Sep 15    -28\n",
       "Sep 16      0\n",
       "Sep 17    -10\n",
       "Sep 18    -31\n",
       "Sep 19      0\n",
       "Sep 20    -17\n",
       "Sep 21    -23\n",
       "Sep 22    -21\n",
       "Sep 23    -41\n",
       "Sep 24      0\n",
       "Sep 25      0\n",
       "Sep 26    -67\n",
       "Sep 27    -38\n",
       "Sep 28    -32\n",
       "Sep 29    -42\n",
       "Sep 30    -41\n",
       "Name: Data_Value, dtype: int64"
      ]
     },
     "execution_count": 41,
     "metadata": {},
     "output_type": "execute_result"
    }
   ],
   "source": [
    "df.describe()\n",
    "maxes = df.groupby('DayMonth')['Data_Value'].max()\n",
    "mins = df.groupby('DayMonth')['Data_Value'].min()\n",
    "mins\n",
    "#datetime.strptime(mins, '%m-%d')"
   ]
  }
 ],
 "metadata": {
  "kernelspec": {
   "display_name": "Python 3",
   "language": "python",
   "name": "python3"
  },
  "language_info": {
   "codemirror_mode": {
    "name": "ipython",
    "version": 3
   },
   "file_extension": ".py",
   "mimetype": "text/x-python",
   "name": "python",
   "nbconvert_exporter": "python",
   "pygments_lexer": "ipython3",
   "version": "3.6.2"
  }
 },
 "nbformat": 4,
 "nbformat_minor": 1
}
