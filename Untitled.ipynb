{
 "cells": [
  {
   "cell_type": "code",
   "execution_count": 33,
   "metadata": {},
   "outputs": [
    {
     "data": {
      "text/plain": [
       "31"
      ]
     },
     "execution_count": 33,
     "metadata": {},
     "output_type": "execute_result"
    }
   ],
   "source": [
    "import pandas as pd\n",
    "import numpy as np\n",
    "\n",
    "arr = np.array([31,29,31,30,31])\n",
    "\n",
    "# Series are v similar to Dictionaries. Can pass such also etc.\n",
    "ser = pd.Series(arr, index=['J','F','M','A','M'])\n",
    "#  can select individual elements as ordinary numpy arrays,\n",
    "ser[2]\n"
   ]
  },
  {
   "cell_type": "code",
   "execution_count": 34,
   "metadata": {},
   "outputs": [
    {
     "data": {
      "text/plain": [
       "J    31\n",
       "M    31\n",
       "A    30\n",
       "M    31\n",
       "dtype: int64"
      ]
     },
     "execution_count": 34,
     "metadata": {},
     "output_type": "execute_result"
    }
   ],
   "source": [
    "arr[1] = 28 # passed by ref, so this will change in ser also!\n",
    "\n",
    "ser[ser > 28]\n"
   ]
  },
  {
   "cell_type": "code",
   "execution_count": 36,
   "metadata": {},
   "outputs": [
    {
     "data": {
      "text/plain": [
       "31.0"
      ]
     },
     "execution_count": 36,
     "metadata": {},
     "output_type": "execute_result"
    }
   ],
   "source": [
    "np.median(ser) # can use numpy fns for convenience"
   ]
  },
  {
   "cell_type": "code",
   "execution_count": 53,
   "metadata": {},
   "outputs": [
    {
     "name": "stdout",
     "output_type": "stream",
     "text": [
      "non numeric white          False\n",
      "white          False\n",
      "blue           False\n",
      "green          False\n",
      "green          False\n",
      "yellow         False\n",
      "transparent     True\n",
      "dtype: bool\n",
      "check values in... white          False\n",
      "white           True\n",
      "blue            True\n",
      "green          False\n",
      "green           True\n",
      "yellow          True\n",
      "transparent    False\n",
      "dtype: bool\n"
     ]
    },
    {
     "data": {
      "text/plain": [
       "2.0    2\n",
       "1.0    2\n",
       "3.0    1\n",
       "0.0    1\n",
       "dtype: int64"
      ]
     },
     "execution_count": 53,
     "metadata": {},
     "output_type": "execute_result"
    }
   ],
   "source": [
    "# Useful NaN and value checks...\n",
    "#\n",
    "serd = pd.Series([1,0,2,1,2,3,np.NaN], \\\n",
    "                 index=['white','white','blue','green','green','yellow','transparent'])\n",
    "print( 'non numeric', serd.isnull() ) # also use notnull()\n",
    "print('check values in...', serd.isin([0,3,2])) # which members are in...\n",
    "\n",
    "serd.value_counts() # doesnt show NaNs\n",
    "\n"
   ]
  },
  {
   "cell_type": "code",
   "execution_count": 63,
   "metadata": {},
   "outputs": [
    {
     "name": "stdout",
     "output_type": "stream",
     "text": [
      "    color  object  price\n",
      "0    blue    ball    1.2\n",
      "1   green     pen    1.0\n",
      "2  yellow  pencil    0.6\n",
      "3     red   paper    0.9\n",
      "4   white     mug    1.7\n"
     ]
    },
    {
     "data": {
      "text/plain": [
       "RangeIndex(start=0, stop=5, step=1)"
      ]
     },
     "execution_count": 63,
     "metadata": {},
     "output_type": "execute_result"
    }
   ],
   "source": [
    "# DFs have two index arrays, the index and the columns index.\n",
    "data_a = {'color' : ['blue','green','yellow','red','white'],\\\n",
    "        'object' : ['ball','pen','pencil','paper','mug'],\\\n",
    "         'price' : [1.2,1.0,0.6,0.9,1.7]}\n",
    "frame = pd.DataFrame(data_a)\n",
    "print(frame.head())\n",
    "frame.index\n"
   ]
  },
  {
   "cell_type": "code",
   "execution_count": 69,
   "metadata": {},
   "outputs": [
    {
     "name": "stdout",
     "output_type": "stream",
     "text": [
      "['ball', 'pen', 'pencil', 'paper']\n",
      "   ball  pen  pencil  paper  eraser\n",
      "0     0    1       2      3       0\n",
      "1     4    5       6      7       1\n",
      "2     8    9      10     11       2\n",
      "3    12   13      14     15       3\n"
     ]
    },
    {
     "data": {
      "text/html": [
       "<div>\n",
       "<style scoped>\n",
       "    .dataframe tbody tr th:only-of-type {\n",
       "        vertical-align: middle;\n",
       "    }\n",
       "\n",
       "    .dataframe tbody tr th {\n",
       "        vertical-align: top;\n",
       "    }\n",
       "\n",
       "    .dataframe thead th {\n",
       "        text-align: right;\n",
       "    }\n",
       "</style>\n",
       "<table border=\"1\" class=\"dataframe\">\n",
       "  <thead>\n",
       "    <tr style=\"text-align: right;\">\n",
       "      <th></th>\n",
       "      <th>ball</th>\n",
       "      <th>pen</th>\n",
       "      <th>pencil</th>\n",
       "      <th>paper</th>\n",
       "      <th>eraser</th>\n",
       "    </tr>\n",
       "  </thead>\n",
       "  <tbody>\n",
       "    <tr>\n",
       "      <th>0</th>\n",
       "      <td>False</td>\n",
       "      <td>False</td>\n",
       "      <td>True</td>\n",
       "      <td>False</td>\n",
       "      <td>False</td>\n",
       "    </tr>\n",
       "    <tr>\n",
       "      <th>1</th>\n",
       "      <td>True</td>\n",
       "      <td>False</td>\n",
       "      <td>False</td>\n",
       "      <td>False</td>\n",
       "      <td>False</td>\n",
       "    </tr>\n",
       "    <tr>\n",
       "      <th>2</th>\n",
       "      <td>False</td>\n",
       "      <td>False</td>\n",
       "      <td>False</td>\n",
       "      <td>False</td>\n",
       "      <td>True</td>\n",
       "    </tr>\n",
       "    <tr>\n",
       "      <th>3</th>\n",
       "      <td>False</td>\n",
       "      <td>False</td>\n",
       "      <td>False</td>\n",
       "      <td>True</td>\n",
       "      <td>False</td>\n",
       "    </tr>\n",
       "  </tbody>\n",
       "</table>\n",
       "</div>"
      ],
      "text/plain": [
       "    ball    pen  pencil  paper  eraser\n",
       "0  False  False    True  False   False\n",
       "1   True  False   False  False   False\n",
       "2  False  False   False  False    True\n",
       "3  False  False   False   True   False"
      ]
     },
     "execution_count": 69,
     "metadata": {},
     "output_type": "execute_result"
    }
   ],
   "source": [
    "data = np.arange(16).reshape(4,4)\n",
    "cols = data_a['object'][0:4]\n",
    "print(cols)\n",
    "df = pd.DataFrame(data, columns=cols)\n",
    "# add a new column to end\n",
    "df['eraser'] = np.arange(4)\n",
    "print(df)\n",
    "df.isin([2,4,15])"
   ]
  },
  {
   "cell_type": "code",
   "execution_count": 75,
   "metadata": {},
   "outputs": [
    {
     "data": {
      "text/plain": [
       "True"
      ]
     },
     "execution_count": 75,
     "metadata": {},
     "output_type": "execute_result"
    }
   ],
   "source": [
    "# nested dict structures are quick way to write a dataframe\n",
    "nestdict = { 'red': { 2012: 22, 2013: 33 },\\\n",
    " 'white': { 2011: 13, 2012: 22, 2013: 16},\\\n",
    " 'blue': {2011: 17, 2012: 27, 2013: 18}}\n",
    "df2 = pd.DataFrame(nestdict)\n",
    "# check they are unique indices\n",
    "df2.index.is_unique\n",
    "\n"
   ]
  },
  {
   "cell_type": "markdown",
   "metadata": {},
   "source": [
    "### Useful functions for wrangling data\n",
    "my_series.reindex( PASS NEW INDEXES )\n",
    "\n",
    "this will extend to 6 and fill out (also see 'bfill'\n",
    "my_series.reindex(range(6),method='ffill') \n",
    "\n",
    "df.reindex(range(6), method='ffill', columns=[some cols])\n",
    "\n",
    "Delete rows:\n",
    "df.drop([list of indexes of rows to drop])\n",
    "DElete cols:\n",
    "df.drop([], axis=1)"
   ]
  }
 ],
 "metadata": {
  "kernelspec": {
   "display_name": "Python 3",
   "language": "python",
   "name": "python3"
  },
  "language_info": {
   "codemirror_mode": {
    "name": "ipython",
    "version": 3
   },
   "file_extension": ".py",
   "mimetype": "text/x-python",
   "name": "python",
   "nbconvert_exporter": "python",
   "pygments_lexer": "ipython3",
   "version": "3.7.3"
  }
 },
 "nbformat": 4,
 "nbformat_minor": 2
}
